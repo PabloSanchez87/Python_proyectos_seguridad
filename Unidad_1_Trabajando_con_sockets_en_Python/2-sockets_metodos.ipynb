{
 "cells": [
  {
   "cell_type": "markdown",
   "metadata": {},
   "source": [
    "# Ejemplo métodos de socket\n",
    "\n",
    "En el siguiente script es un ejemplo de cómo podemos usar estos métodos para obtener información de los servidores de Google."
   ]
  },
  {
   "cell_type": "code",
   "execution_count": 1,
   "metadata": {},
   "outputs": [
    {
     "name": "stdout",
     "output_type": "stream",
     "text": [
      "gethostbyname\n",
      "('www.google.es', [], ['142.250.200.99'])\n",
      "\n",
      "gethostbyaddr\n",
      "('mad01s24-in-f4.1e100.net', [], ['216.58.211.228'])\n",
      "\n",
      "getfqdn\n",
      "mad41s13-in-f4.1e100.net\n"
     ]
    }
   ],
   "source": [
    " # -*- encoding: utf-8 -*-\n",
    "\n",
    "import socket\n",
    "import sys\n",
    "\n",
    "try:\n",
    "    print(\"gethostbyname\")\n",
    "    print(socket.gethostbyname_ex('www.google.es'))\n",
    "    print(\"\\ngethostbyaddr\")\n",
    "    print(socket.gethostbyaddr('216.58.211.228'))\n",
    "    print(\"\\ngetfqdn\")\n",
    "    print(socket.getfqdn('www.google.com'))\n",
    "\n",
    "except socket.error as error:\n",
    "    print (str(error))\n",
    "    print (\"Error de conexion\")\n",
    "    sys.exit()"
   ]
  },
  {
   "cell_type": "markdown",
   "metadata": {},
   "source": [
    "---"
   ]
  },
  {
   "cell_type": "markdown",
   "metadata": {},
   "source": [
    "# Búsqueda inversa\n",
    "\n",
    "Este comando obtiene el nombre del host de la dirección IP."
   ]
  },
  {
   "cell_type": "code",
   "execution_count": 2,
   "metadata": {},
   "outputs": [
    {
     "name": "stdout",
     "output_type": "stream",
     "text": [
      "The host name is:\n",
      " dns.google\n",
      "\n",
      "Address:\n",
      " 8.8.8.8\n"
     ]
    }
   ],
   "source": [
    "#!/usr/bin/env python\n",
    "# --*-- coding: UTF-8 --*--\n",
    "\n",
    "import sys, socket\n",
    "try :\n",
    "\tresult=socket.gethostbyaddr(\"8.8.8.8\")\n",
    "\tprint(\"The host name is:\")\n",
    "\tprint(\" \"+result[0])\n",
    "\tprint(\"\\nAddress:\")\n",
    "\tfor item in result[2]:\n",
    "\t\tprint(\" \"+item)\n",
    "except socket.herror as e:\n",
    "\tprint(\"error for resolving ip address:\",e)"
   ]
  },
  {
   "cell_type": "markdown",
   "metadata": {},
   "source": [
    "---"
   ]
  },
  {
   "cell_type": "markdown",
   "metadata": {},
   "source": [
    "# Ejercicio de ejemplo solucionado.\n",
    "\n",
    "Dado un nombre de dominio introducido por la entrada estándar por parte del usuario, obtener información de relación con dicho dominio cmo dirección IP, host asociado y nombre cualificado del dominio."
   ]
  },
  {
   "cell_type": "code",
   "execution_count": 13,
   "metadata": {},
   "outputs": [
    {
     "name": "stdout",
     "output_type": "stream",
     "text": [
      "Obtener ip a partir del nombre dominio:\n",
      "142.250.185.3\n",
      "\n",
      "Obtener host a partir de la direccion ip\n",
      "('mad41s11-in-f3.1e100.net', [], ['142.250.185.3'])\n",
      "\n",
      "Obtener nombre cualificado de un dominio\n",
      "mad41s13-in-f3.1e100.net\n"
     ]
    }
   ],
   "source": [
    "import socket\n",
    "\n",
    "dominio = input()\n",
    "\n",
    "try:\n",
    "    print(\"Obtener ip a partir del nombre dominio:\")\n",
    "    ip = socket.gethostbyname(dominio)\n",
    "    print(ip)\n",
    "    print(\"\\nObtener host a partir de la direccion ip\")\n",
    "    print(socket.gethostbyaddr(str(ip)))\n",
    "    print(\"\\nObtener nombre cualificado de un dominio\")\n",
    "    print(socket.getfqdn(dominio))\n",
    "\n",
    "except socket.error as error:\n",
    "    print (str(error))\n",
    "    print (\"Error de conexion\")"
   ]
  },
  {
   "cell_type": "markdown",
   "metadata": {},
   "source": [
    "---"
   ]
  },
  {
   "cell_type": "markdown",
   "metadata": {},
   "source": [
    "# `Método connect_ex()`\n",
    "- El método `socket.connect_ex(dirección, puerto)` se usa para implementar el escaneo de puertos con sockets.\n",
    "- Este script muestra que los puertos están abiertos en la máquina localhost con la interfaz de dirección IP loopback 127.0.0.1"
   ]
  },
  {
   "cell_type": "code",
   "execution_count": 14,
   "metadata": {},
   "outputs": [
    {
     "name": "stdout",
     "output_type": "stream",
     "text": [
      "22 : 111\n",
      "23 : 111\n",
      "80 : 111\n",
      "912 : 111\n",
      "135 : 111\n",
      "445 : 111\n",
      "20 : 111\n",
      "631 : 111\n"
     ]
    }
   ],
   "source": [
    "import socket\n",
    "\n",
    "ip ='127.0.0.1'\n",
    "portlist = [22,23,80,912,135,445,20,631]\n",
    "for port in portlist:\n",
    "\tsock= socket.socket(socket.AF_INET,socket.SOCK_STREAM)\n",
    "\tresult = sock.connect_ex((ip,port))\n",
    "\tprint(port,\":\", result)\n",
    "\tsock.close()"
   ]
  },
  {
   "cell_type": "markdown",
   "metadata": {},
   "source": [
    "---\n",
    "\n"
   ]
  },
  {
   "cell_type": "markdown",
   "metadata": {},
   "source": [
    "# Escáner de puertos con sockets\n",
    "- Por ejemplo, podríamos tener una función que acepte por parámetros una IP y una listsa de puertos y devuelva para cada puerto si está abierto o cerrado.\n"
   ]
  },
  {
   "cell_type": "code",
   "execution_count": 16,
   "metadata": {},
   "outputs": [
    {
     "name": "stdout",
     "output_type": "stream",
     "text": [
      "Puerto 80: \t Abierto\n",
      "Puerto 8080: \t Cerrado\n",
      "Puerto 443: \t Abierto\n",
      "Puerto 22: \t Cerrado\n"
     ]
    }
   ],
   "source": [
    "import socket\n",
    "import sys\n",
    "\n",
    "def comprobarListaPuertos(ip,portlist):\n",
    "    try:\n",
    "        for port in portlist:\n",
    "            sock= socket.socket(socket.AF_INET,socket.SOCK_STREAM)\n",
    "            sock.settimeout(5)\n",
    "            result = sock.connect_ex((ip,port))\n",
    "            if result == 0:\n",
    "                print (\"Puerto {}: \\t Abierto\".format(port))\n",
    "            else:\n",
    "                print (\"Puerto {}: \\t Cerrado\".format(port))\n",
    "            sock.close()\n",
    "    except socket.error as error:\n",
    "        print (str(error))\n",
    "        print (\"Error de conexion\")\n",
    "        sys.exit()\n",
    "\n",
    "comprobarListaPuertos('www.google.es',[80,8080,443,22])"
   ]
  },
  {
   "cell_type": "markdown",
   "metadata": {},
   "source": [
    "---\n"
   ]
  },
  {
   "cell_type": "markdown",
   "metadata": {},
   "source": [
    "# Escáner de puertos con sockets avanzado\n",
    "\n",
    "- En el siguiente código de Python le permitirá escanera un host local o remoto en busca de puertos abierto.\n",
    "- El programa busca puerto seleccionados a partir de una determinada dirección IP introducida por el usuario y refleja elo spuertos abierto de regreso al usuario.\n",
    "- Si el puerto está cerrrado, también muestra información sobre el motivo, por ejemplo, por tiemout de la conexión."
   ]
  },
  {
   "cell_type": "code",
   "execution_count": 20,
   "metadata": {},
   "outputs": [
    {
     "name": "stdout",
     "output_type": "stream",
     "text": [
      "Escaneando IP 142.250.200.99 : \n",
      "Probando puerto 78 ...\n",
      "Probando puerto 79 ...\n",
      "Probando puerto 80 ...\n",
      "El puerto  80 está abierto\n",
      "Escaneo finalizado!\n"
     ]
    }
   ],
   "source": [
    "# Escaner de puertos con sockets\n",
    "\n",
    "# Importamos modulo socket\n",
    "from socket import * \n",
    "\n",
    "# Preguntamos por la IP                 \n",
    "ip = input(\"Introduce IP : \")\n",
    "\n",
    "# Preguntamos por el puertos           \n",
    "puerto_inicio = input(\"Introduce puerto de inicio : \") \n",
    "puerto_fin = input(\"Introduce puerto de fin : \")\n",
    "     \n",
    "print (\"Escaneando IP {} : \".format(ip))\n",
    "\n",
    "#recorrer cada uno de los puertos\n",
    "for port in range(int(puerto_inicio),int(puerto_fin)+1):\n",
    "\tprint (\"Probando puerto {} ...\".format(port))\n",
    "\t# Crea el objeto socket\n",
    "\ts = socket(AF_INET, SOCK_STREAM)\n",
    "\ts.settimeout(5)\n",
    "\t\n",
    "\t# Comprobar conexion e imprimimos si el puerto está abierto\n",
    "\tif(s.connect_ex((ip,port))==0):\n",
    "\t\tprint(\"El puerto \" , port, \"está abierto\")\n",
    "\t\n",
    "\t# Cierra el socket\n",
    "\ts.close()\n",
    "\t\n",
    "print(\"Escaneo finalizado!\")"
   ]
  },
  {
   "cell_type": "markdown",
   "metadata": {},
   "source": [
    "---"
   ]
  },
  {
   "cell_type": "markdown",
   "metadata": {},
   "source": [
    "# Escáner de puerto a partir de un dominio\n",
    "- El siguiente script nos permitirá escaner una dirección IP con las funciones `portScanning` y `scocketScan`.\n",
    "- El programa busca puertos seleccionados en un dominio específico resuelto a partir de la dirección IP ingresada por el usuario por parámetro.\n",
    "\n",
    "- *Note:* En un notebook, puedes simular esos argumentos usando la librería argparse o configurando manualmente las variables en lugar de utilizar optparse."
   ]
  },
  {
   "cell_type": "code",
   "execution_count": 23,
   "metadata": {},
   "outputs": [
    {
     "name": "stdout",
     "output_type": "stream",
     "text": [
      "\n",
      "[+] Scan Results for: mad41s11-in-f3.1e100.net\n"
     ]
    },
    {
     "name": "stdout",
     "output_type": "stream",
     "text": [
      "[+] 80/tcp open \n",
      "\n",
      "timed outtimed out\n",
      "[-] 21/tcp closed \n",
      "\n",
      "\n",
      "[-] 22/tcp closed \n",
      "\n",
      "timed out\n",
      "[-] 23/tcp closed \n",
      "\n"
     ]
    }
   ],
   "source": [
    "from socket import *\n",
    "from threading import *\n",
    "\n",
    "def socketScan(host, port):\n",
    "    try:\n",
    "        socket_connect = socket(AF_INET, SOCK_STREAM)\n",
    "        socket_connect.settimeout(10)\n",
    "        socket_connect.connect((host, port))\n",
    "        print('[+] %d/tcp open \\n' % port)\n",
    "    except Exception as error:\n",
    "        print(error)\n",
    "        print('[-] %d/tcp closed \\n' % port)\n",
    "    finally:\n",
    "        socket_connect.close()    \n",
    "\n",
    "def portScanning(host, ports):\n",
    "    try:\n",
    "        ip = gethostbyname(host)\n",
    "    except:\n",
    "        print(\"[-] Cannot resolve '%s': Unknown host\" % host)\n",
    "        return\n",
    "\n",
    "    try:\n",
    "        name = gethostbyaddr(ip)\n",
    "        print('\\n[+] Scan Results for: ' + name[0])\n",
    "    except:\n",
    "        print('\\n[+] Scan Results for: ' + ip)\n",
    "\n",
    "    for port in ports:\n",
    "        t = Thread(target=socketScan, args=(ip, int(port)))\n",
    "        t.start()\n",
    "\n",
    "# Definir los valores de host y puertos aquí\n",
    "host = \"www.google.es\"\n",
    "ports = [80, 21, 22, 23]\n",
    "\n",
    "# Llamar a la función de escaneo\n",
    "portScanning(host, ports)\n"
   ]
  },
  {
   "cell_type": "markdown",
   "metadata": {},
   "source": [
    "---\n"
   ]
  },
  {
   "cell_type": "markdown",
   "metadata": {},
   "source": [
    "# Ejercicio solucionado.\n",
    "Escáner de puertos con sockets"
   ]
  },
  {
   "cell_type": "code",
   "execution_count": 24,
   "metadata": {},
   "outputs": [
    {
     "name": "stdout",
     "output_type": "stream",
     "text": [
      "Escaneando IP 142.250.200.99 en los puertos [79, 80, 71] : \n",
      "El puerto 80:está abierto  Servicio:http  \n",
      "Scanning Completed\n"
     ]
    }
   ],
   "source": [
    "import socket\n",
    "import sys\n",
    "\n",
    "# Preguntamos por la IP\n",
    "ip = input(\"Introduce IP:\")\n",
    "\n",
    "#Preguntamos por los puertos de inicio y fin\n",
    "listaPuertos = list(int(num) for num in input(\"Introduce rango de puertos separados por comas:\").strip().split(\",\"))\n",
    "\n",
    "print (\"Escaneando IP {} en los puertos {} : \".format(ip,listaPuertos))\n",
    "\n",
    "try:\n",
    "    for port in listaPuertos:\n",
    "        s = socket.socket(socket.AF_INET, socket.SOCK_STREAM)\n",
    "        s.settimeout(5)\n",
    "        if (s.connect_ex((ip, port)) == 0):\n",
    "            try:\n",
    "                serv = socket.getservbyport(port)\n",
    "            except socket.error:\n",
    "                error_servidor=\"not-found\"\n",
    "\n",
    "            print((\"El puerto %s:está abierto  Servicio:%s  \"%(port,serv)))\n",
    "        \n",
    "    print(\"Scanning Completed\")\n",
    "\n",
    "except KeyboardInterrupt as exception:\n",
    "\tprint(exception)\n",
    "\tsys.exit()"
   ]
  }
 ],
 "metadata": {
  "kernelspec": {
   "display_name": ".env",
   "language": "python",
   "name": "python3"
  },
  "language_info": {
   "codemirror_mode": {
    "name": "ipython",
    "version": 3
   },
   "file_extension": ".py",
   "mimetype": "text/x-python",
   "name": "python",
   "nbconvert_exporter": "python",
   "pygments_lexer": "ipython3",
   "version": "3.12.0"
  }
 },
 "nbformat": 4,
 "nbformat_minor": 2
}
