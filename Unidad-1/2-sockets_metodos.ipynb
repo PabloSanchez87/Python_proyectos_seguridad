{
 "cells": [
  {
   "cell_type": "markdown",
   "metadata": {},
   "source": [
    "# Ejemplo métodos de socket\n",
    "\n",
    "En el siguiente script es un ejemplo de cómo podemos usar estos métodos para obtener información de los servidores de Google."
   ]
  },
  {
   "cell_type": "code",
   "execution_count": 1,
   "metadata": {},
   "outputs": [
    {
     "name": "stdout",
     "output_type": "stream",
     "text": [
      "gethostbyname\n",
      "('www.google.es', [], ['142.250.200.99'])\n",
      "\n",
      "gethostbyaddr\n",
      "('mad01s24-in-f4.1e100.net', [], ['216.58.211.228'])\n",
      "\n",
      "getfqdn\n",
      "mad41s13-in-f4.1e100.net\n"
     ]
    }
   ],
   "source": [
    " # -*- encoding: utf-8 -*-\n",
    "\n",
    "import socket\n",
    "import sys\n",
    "\n",
    "try:\n",
    "    print(\"gethostbyname\")\n",
    "    print(socket.gethostbyname_ex('www.google.es'))\n",
    "    print(\"\\ngethostbyaddr\")\n",
    "    print(socket.gethostbyaddr('216.58.211.228'))\n",
    "    print(\"\\ngetfqdn\")\n",
    "    print(socket.getfqdn('www.google.com'))\n",
    "\n",
    "except socket.error as error:\n",
    "    print (str(error))\n",
    "    print (\"Error de conexion\")\n",
    "    sys.exit()"
   ]
  }
 ],
 "metadata": {
  "kernelspec": {
   "display_name": ".env",
   "language": "python",
   "name": "python3"
  },
  "language_info": {
   "codemirror_mode": {
    "name": "ipython",
    "version": 3
   },
   "file_extension": ".py",
   "mimetype": "text/x-python",
   "name": "python",
   "nbconvert_exporter": "python",
   "pygments_lexer": "ipython3",
   "version": "3.12.0"
  }
 },
 "nbformat": 4,
 "nbformat_minor": 2
}
